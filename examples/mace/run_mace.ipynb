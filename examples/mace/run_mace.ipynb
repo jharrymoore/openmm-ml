{
 "cells": [
  {
   "attachments": {},
   "cell_type": "markdown",
   "metadata": {},
   "source": [
    "# Example: using OpenMM to run a simulation with a NequIP ML potential\n",
    "\n",
    "You can run this example directly in your browser: [![Open On Colab](https://colab.research.google.com/assets/colab-badge.svg)](https://colab.research.google.com/github/sef43/openmm-ml/blob/mace/examples/nequip/run_mace.ipynb)"
   ]
  },
  {
   "cell_type": "markdown",
   "metadata": {},
   "source": [
    "## Install Conda\n",
    "\n",
    "[Conda](https://docs.conda.io/) is a package and environment manager. On Google Colab, Conda is installed with [conda-colab](https://github.com/jaimergp/condacolab). On your computer, you should follow these [installation instructions](https://docs.conda.io/projects/conda/en/latest/user-guide/install/index.html).\n",
    "\n",
    "⚠️ Do not use conda-colab on your computer!"
   ]
  },
  {
   "cell_type": "code",
   "execution_count": null,
   "metadata": {},
   "outputs": [],
   "source": [
    "!pip install -q condacolab\n",
    "import condacolab\n",
    "condacolab.install_mambaforge() # use mamba on colab because it is faster than conda"
   ]
  },
  {
   "attachments": {},
   "cell_type": "markdown",
   "metadata": {},
   "source": [
    "## Install software\n",
    "\n",
    "First install everything we can from [conda-forge](https://conda-forge.org/).\n",
    "Then use pip.\n",
    "\n",
    "⚠️ The installation might take up to 10 min!"
   ]
  },
  {
   "cell_type": "code",
   "execution_count": null,
   "metadata": {},
   "outputs": [],
   "source": [
    "#https://github.com/openmm/openmm-torch/issues/88\n",
    "%env CONDA_OVERRIDE_CUDA=12.0\n",
    "!mamba install -c conda-forge openmm-torch pytorch=*=cuda* openmmtools\n",
    "\n",
    "!pip install git+https://github.com/ACEsuit/mace\n",
    "!pip install git+https://github.com/sef43/openmm-ml@mace"
   ]
  },
  {
   "attachments": {},
   "cell_type": "markdown",
   "metadata": {},
   "source": [
    "## Get the files we need to run the example"
   ]
  },
  {
   "cell_type": "code",
   "execution_count": null,
   "metadata": {},
   "outputs": [],
   "source": [
    "!wget https://raw.githubusercontent.com/sef43/openmm-ml/mace/examples/mace/mace/openmm-ml/examples/mace/ani500k_small_CC.model"
   ]
  },
  {
   "attachments": {},
   "cell_type": "markdown",
   "metadata": {},
   "source": [
    "## Run simulation"
   ]
  },
  {
   "cell_type": "code",
   "execution_count": null,
   "metadata": {},
   "outputs": [],
   "source": [
    "import openmm\n",
    "import openmm.app as app\n",
    "import openmm.unit as unit\n",
    "from openmmml import MLPotential\n",
    "from sys import stdout\n",
    "from openmmtools.testsystems import AlanineDipeptideVacuum\n",
    "\n",
    "# Get the system of alanine dipeptide\n",
    "ala2 = AlanineDipeptideVacuum(constraints=None)\n",
    "\n",
    "# Remove MM forces\n",
    "while ala2.system.getNumForces() > 0:\n",
    "  ala2.system.removeForce(0)\n",
    "\n",
    "# The system should not contain any additional force and constrains\n",
    "assert ala2.system.getNumConstraints() == 0\n",
    "assert ala2.system.getNumForces() == 0\n",
    "\n",
    "potential = MLPotential('mace', model_path='ani500k_small_CC.model')\n",
    "\n",
    "\n",
    "system = potential.createSystem(ala2.topology)\n",
    "\n",
    "\n",
    "integrator = openmm.LangevinIntegrator(300*unit.kelvin, 10.0/unit.picoseconds, 1.0*unit.femtosecond)\n",
    "simulation=app.Simulation(ala2.topology, system, integrator)\n",
    "simulation.context.setPositions(ala2.positions)\n",
    "simulation.reporters.append(app.PDBReporter('output.pdb', 100))\n",
    "simulation.reporters.append(app.StateDataReporter(stdout, 100, step=True,\n",
    "        potentialEnergy=True, temperature=True))\n",
    "\n",
    "simulation.step(1000)"
   ]
  }
 ],
 "metadata": {
  "kernelspec": {
   "display_name": "neqmm",
   "language": "python",
   "name": "python3"
  },
  "language_info": {
   "codemirror_mode": {
    "name": "ipython",
    "version": 3
   },
   "file_extension": ".py",
   "mimetype": "text/x-python",
   "name": "python",
   "nbconvert_exporter": "python",
   "pygments_lexer": "ipython3",
   "version": "3.11.6"
  },
  "orig_nbformat": 4,
  "vscode": {
   "interpreter": {
    "hash": "413bac2e6b7bbc56e28392734551129ace8c921fbbb9e9273c3258497d1da304"
   }
  }
 },
 "nbformat": 4,
 "nbformat_minor": 2
}
